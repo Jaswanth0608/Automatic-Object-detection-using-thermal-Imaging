{
 "cells": [
  {
   "cell_type": "code",
   "execution_count": null,
   "metadata": {
    "execution": {
     "iopub.execute_input": "2023-09-09T09:21:04.721619Z",
     "iopub.status.busy": "2023-09-09T09:21:04.721165Z",
     "iopub.status.idle": "2023-09-09T09:21:22.260322Z",
     "shell.execute_reply": "2023-09-09T09:21:22.259047Z",
     "shell.execute_reply.started": "2023-09-09T09:21:04.721576Z"
    }
   },
   "outputs": [],
   "source": [
    "!pip install roboflow\n",
    "from roboflow import Roboflow\n",
    "rf = Roboflow(api_key=\"D90rVo7ahGyBHqpqtBIH\")\n",
    "project = rf.workspace(\"indian-institute-of-information-technology-sricity\").project(\"guava-h98xp\")\n",
    "dataset = project.version(6).download(\"tensorflow\")"
   ]
  },
  {
   "cell_type": "code",
   "execution_count": null,
   "metadata": {
    "execution": {
     "iopub.execute_input": "2023-09-09T09:21:22.263435Z",
     "iopub.status.busy": "2023-09-09T09:21:22.262959Z",
     "iopub.status.idle": "2023-09-09T09:21:33.773579Z",
     "shell.execute_reply": "2023-09-09T09:21:33.772326Z",
     "shell.execute_reply.started": "2023-09-09T09:21:22.263395Z"
    }
   },
   "outputs": [],
   "source": [
    "!pip install tensorflow\n",
    "import tensorflow as tf"
   ]
  },
  {
   "cell_type": "code",
   "execution_count": null,
   "metadata": {
    "execution": {
     "iopub.execute_input": "2023-09-09T09:21:33.777772Z",
     "iopub.status.busy": "2023-09-09T09:21:33.776981Z",
     "iopub.status.idle": "2023-09-09T09:21:33.788190Z",
     "shell.execute_reply": "2023-09-09T09:21:33.787142Z",
     "shell.execute_reply.started": "2023-09-09T09:21:33.777741Z"
    }
   },
   "outputs": [],
   "source": [
    "import numpy as np\n",
    "import pandas as pd\n",
    "import os\n",
    "import cv2\n",
    "import joblib\n",
    "import numpy as np\n",
    "import pandas as pd\n",
    "import matplotlib.pyplot as plt\n",
    "from PIL import Image\n",
    "from sklearn.metrics import accuracy_score, precision_score\n",
    "# import tensorflow as tf\n",
    "import matplotlib.image as mpimg\n",
    "from sklearn.preprocessing import FunctionTransformer,LabelEncoder\n",
    "from sklearn.model_selection import train_test_split\n",
    "from keras.utils import to_categorical\n",
    "from keras.applications import ResNet50\n",
    "from keras.models import Model\n",
    "from keras.layers import Input, Flatten, Dense\n",
    "from keras.optimizers import Adam\n",
    "from keras.utils import to_categorical\n",
    "from keras.applications import ResNet50\n",
    "from keras.models import Model\n",
    "from keras.layers import Input, Flatten, Dense\n",
    "from keras.optimizers import Adam\n",
    "from keras.utils import to_categorical\n",
    "from tensorflow.keras.applications import ResNet50\n",
    "from tensorflow.keras.models import Model\n",
    "from tensorflow.keras.layers import Input, Flatten, Dense\n",
    "from tensorflow.keras.optimizers import Adam\n",
    "from tensorflow.keras.utils import to_categorical\n"
   ]
  },
  {
   "cell_type": "code",
   "execution_count": null,
   "metadata": {
    "execution": {
     "iopub.execute_input": "2023-09-09T09:21:33.791173Z",
     "iopub.status.busy": "2023-09-09T09:21:33.790864Z",
     "iopub.status.idle": "2023-09-09T09:21:33.801490Z",
     "shell.execute_reply": "2023-09-09T09:21:33.800579Z",
     "shell.execute_reply.started": "2023-09-09T09:21:33.791149Z"
    }
   },
   "outputs": [],
   "source": [
    "def load_data(dir , df):\n",
    "    # Load images and labels into arrays\n",
    "    images = []\n",
    "    labels = []\n",
    "\n",
    "    for index, row in df.iterrows():\n",
    "        image_file_path = os.path.join(dir, row['filename'])\n",
    "        image = cv2.imread(image_file_path)\n",
    "        if image is not None:\n",
    "            resized_image = cv2.resize(image, (img_size, img_size))  # Resize to a fixed size\n",
    "            resized_image = np.array(resized_image) / 255.0\n",
    "        images.append(resized_image)\n",
    "        labels.append(row['target'])\n",
    "\n",
    "    # Convert lists to numpy arrays\n",
    "    return np.array(images) , np.array(labels)"
   ]
  },
  {
   "cell_type": "code",
   "execution_count": null,
   "metadata": {
    "execution": {
     "iopub.execute_input": "2023-09-09T09:21:33.803427Z",
     "iopub.status.busy": "2023-09-09T09:21:33.802800Z",
     "iopub.status.idle": "2023-09-09T09:21:33.817848Z",
     "shell.execute_reply": "2023-09-09T09:21:33.816833Z",
     "shell.execute_reply.started": "2023-09-09T09:21:33.803394Z"
    }
   },
   "outputs": [],
   "source": [
    "img_size = 350"
   ]
  },
  {
   "cell_type": "code",
   "execution_count": null,
   "metadata": {
    "execution": {
     "iopub.execute_input": "2023-09-09T09:21:33.821364Z",
     "iopub.status.busy": "2023-09-09T09:21:33.821061Z",
     "iopub.status.idle": "2023-09-09T09:21:37.520457Z",
     "shell.execute_reply": "2023-09-09T09:21:37.519302Z",
     "shell.execute_reply.started": "2023-09-09T09:21:33.821339Z"
    }
   },
   "outputs": [],
   "source": [
    "dir = \"/kaggle/working/guava-6/train\"\n",
    "df = pd.read_csv(dir + \"/_annotations.csv\")\n",
    "label_encoder = LabelEncoder()\n",
    "# Encode the 'class' column\n",
    "df['target'] = label_encoder.fit_transform(df['class'])\n",
    "\n",
    "train_data, train_labels = load_data(dir , df)\n",
    "\n",
    "print(\"Loaded data shape:\", train_data.shape)\n",
    "print(\"Loaded labels shape:\", train_labels.shape)\n"
   ]
  },
  {
   "cell_type": "code",
   "execution_count": null,
   "metadata": {
    "execution": {
     "iopub.execute_input": "2023-09-09T09:21:37.522349Z",
     "iopub.status.busy": "2023-09-09T09:21:37.522018Z",
     "iopub.status.idle": "2023-09-09T09:21:37.698209Z",
     "shell.execute_reply": "2023-09-09T09:21:37.697050Z",
     "shell.execute_reply.started": "2023-09-09T09:21:37.522316Z"
    }
   },
   "outputs": [],
   "source": [
    "dir = \"/kaggle/working/guava-6/test\"\n",
    "df = pd.read_csv(dir + \"/_annotations.csv\")\n",
    "label_encoder = LabelEncoder()\n",
    "# Encode the 'class' column\n",
    "df['target'] = label_encoder.fit_transform(df['class'])\n",
    "\n",
    "test_data, test_labels = load_data(dir , df)\n",
    "\n",
    "print(\"Loaded data shape:\", test_data.shape)\n",
    "print(\"Loaded labels shape:\", test_labels.shape)"
   ]
  },
  {
   "cell_type": "code",
   "execution_count": null,
   "metadata": {
    "execution": {
     "iopub.execute_input": "2023-09-09T09:21:37.700110Z",
     "iopub.status.busy": "2023-09-09T09:21:37.699735Z",
     "iopub.status.idle": "2023-09-09T09:21:37.985171Z",
     "shell.execute_reply": "2023-09-09T09:21:37.984102Z",
     "shell.execute_reply.started": "2023-09-09T09:21:37.700075Z"
    }
   },
   "outputs": [],
   "source": [
    "dir = \"/kaggle/working/guava-6/valid\"\n",
    "df = pd.read_csv(dir + \"/_annotations.csv\")\n",
    "label_encoder = LabelEncoder()\n",
    "# Encode the 'class' column\n",
    "df['target'] = label_encoder.fit_transform(df['class'])\n",
    "\n",
    "valid_data, valid_labels = load_data(dir , df)\n",
    "\n",
    "print(\"Loaded data shape:\", valid_data.shape)\n",
    "print(\"Loaded labels shape:\", valid_labels.shape)"
   ]
  },
  {
   "cell_type": "markdown",
   "metadata": {},
   "source": [
    "Resnet 50\n"
   ]
  },
  {
   "cell_type": "code",
   "execution_count": null,
   "metadata": {
    "execution": {
     "iopub.execute_input": "2023-09-09T09:21:37.987542Z",
     "iopub.status.busy": "2023-09-09T09:21:37.986616Z",
     "iopub.status.idle": "2023-09-09T09:21:37.993663Z",
     "shell.execute_reply": "2023-09-09T09:21:37.992759Z",
     "shell.execute_reply.started": "2023-09-09T09:21:37.987487Z"
    }
   },
   "outputs": [],
   "source": [
    "# Encode train_labels, valid_labels, and test_labels using one-hot encoding\n",
    "train_labels_encoded = to_categorical(train_labels)\n",
    "valid_labels_encoded = to_categorical(valid_labels)\n",
    "test_labels_encoded = to_categorical(test_labels)"
   ]
  },
  {
   "cell_type": "code",
   "execution_count": null,
   "metadata": {
    "execution": {
     "iopub.execute_input": "2023-09-09T09:21:37.997940Z",
     "iopub.status.busy": "2023-09-09T09:21:37.997565Z",
     "iopub.status.idle": "2023-09-09T09:29:04.764675Z",
     "shell.execute_reply": "2023-09-09T09:29:04.763567Z",
     "shell.execute_reply.started": "2023-09-09T09:21:37.997909Z"
    }
   },
   "outputs": [],
   "source": [
    "import pandas as pd\n",
    "from keras.applications import VGG16, InceptionV3, MobileNet, DenseNet121, ResNet50V2\n",
    "from keras.layers import Flatten, Dense\n",
    "from keras.models import Model\n",
    "from keras.optimizers import Adam\n",
    "import numpy as np\n",
    "from sklearn.metrics import accuracy_score, confusion_matrix\n",
    "import os\n",
    "import matplotlib.pyplot as plt\n",
    "import seaborn as sns\n",
    "\n",
    "# Function to create and compile the CNN model\n",
    "def create_and_compile_model_CNN(img_size, num_classes, base_model):\n",
    "    base_model = base_model(weights='imagenet', include_top=False, input_shape=(img_size, img_size, 3))\n",
    "    \n",
    "    x = base_model.output\n",
    "    x = Flatten()(x)\n",
    "    x = Dense(512, activation='relu')(x)\n",
    "    output = Dense(num_classes, activation='softmax')(x)\n",
    "    \n",
    "    model = Model(inputs=base_model.input, outputs=output)\n",
    "    \n",
    "    model.compile(optimizer=Adam(), loss='categorical_crossentropy', metrics=['accuracy'])\n",
    "    return model\n",
    "\n",
    "# Create a directory to save models\n",
    "if not os.path.exists('./models'):\n",
    "    os.makedirs('./models')\n",
    "\n",
    "models = {\n",
    "    \"VGG16\": VGG16,\n",
    "    \"InceptionV3\": InceptionV3,\n",
    "    \"MobileNet\": MobileNet,\n",
    "    \"DenseNet121\": DenseNet121,\n",
    "    \"ResNet50V2\": ResNet50V2\n",
    "}\n",
    "\n",
    "num_classes = 2\n",
    "batch_size = 8\n",
    "epochs = 10\n",
    "img_size = 350\n",
    "results = []\n",
    "\n",
    "# Data loading and preprocessing should be done here (train_data, train_labels_encoded, valid_data, valid_labels_encoded, test_data, test_labels).\n",
    "\n",
    "for model_name, base_model in models.items():\n",
    "    print(f\"Training {model_name}...\")\n",
    "    model = create_and_compile_model_CNN(img_size, num_classes, base_model)\n",
    "    model.fit(train_data, train_labels_encoded, batch_size=batch_size, epochs=epochs, validation_data=(valid_data, valid_labels_encoded))\n",
    "    \n",
    "    # Save the model\n",
    "    model.save(f'./models/{model_name}_model.h5')\n",
    "    \n",
    "    predictions = model.predict(test_data)\n",
    "    predicted_labels = np.argmax(predictions, axis=1)\n",
    "    \n",
    "    accuracy = accuracy_score(test_labels, predicted_labels)\n",
    "    print(f\"{model_name} Accuracy: {accuracy:.2f}\")\n",
    "    \n",
    "    # Generate and save confusion matrix\n",
    "    cm = confusion_matrix(test_labels, predicted_labels)\n",
    "    plt.figure(figsize=(8, 6))\n",
    "    sns.heatmap(cm, annot=True, fmt='d', cmap='Blues', xticklabels=['Class 0', 'Class 1'], yticklabels=['Class 0', 'Class 1'])\n",
    "    plt.xlabel('Predicted Labels')\n",
    "    plt.ylabel('True Labels')\n",
    "    plt.title(f'Confusion Matrix for {model_name}')\n",
    "    plt.savefig(f'./models/{model_name}_confusion_matrix.png')\n",
    "    \n",
    "    results.append({\n",
    "        \"Model\": model_name,\n",
    "        \"Accuracy\": accuracy,\n",
    "        \"Predicted Labels\": predicted_labels.tolist()\n",
    "    })\n",
    "\n",
    "df = pd.DataFrame(results)\n",
    "# print(df)\n",
    "df.to_csv(\"model_results.csv\", index=False)"
   ]
  },
  {
   "cell_type": "code",
   "execution_count": null,
   "metadata": {
    "execution": {
     "iopub.execute_input": "2023-09-09T09:29:04.766386Z",
     "iopub.status.busy": "2023-09-09T09:29:04.766012Z",
     "iopub.status.idle": "2023-09-09T09:29:04.779740Z",
     "shell.execute_reply": "2023-09-09T09:29:04.778577Z",
     "shell.execute_reply.started": "2023-09-09T09:29:04.766349Z"
    }
   },
   "outputs": [],
   "source": [
    "df"
   ]
  }
 ],
 "metadata": {
  "kernelspec": {
   "display_name": "Python 3 (ipykernel)",
   "language": "python",
   "name": "python3"
  },
  "language_info": {
   "codemirror_mode": {
    "name": "ipython",
    "version": 3
   },
   "file_extension": ".py",
   "mimetype": "text/x-python",
   "name": "python",
   "nbconvert_exporter": "python",
   "pygments_lexer": "ipython3",
   "version": "3.11.5"
  }
 },
 "nbformat": 4,
 "nbformat_minor": 4
}
